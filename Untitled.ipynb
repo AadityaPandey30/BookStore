{
 "cells": [
  {
   "cell_type": "code",
   "execution_count": 7,
   "id": "bec257e2",
   "metadata": {},
   "outputs": [
    {
     "name": "stdout",
     "output_type": "stream",
     "text": [
      "Note: you may need to restart the kernel to use updated packages.\n"
     ]
    },
    {
     "name": "stderr",
     "output_type": "stream",
     "text": [
      "ERROR: Could not find a version that satisfies the requirement tkinter (from versions: none)\n",
      "ERROR: No matching distribution found for tkinter\n"
     ]
    }
   ],
   "source": [
    "pip install tkinter"
   ]
  },
  {
   "cell_type": "code",
   "execution_count": null,
   "id": "d512fdf2",
   "metadata": {},
   "outputs": [
    {
     "ename": "",
     "evalue": "",
     "output_type": "error",
     "traceback": [
      "\u001b[1;31mRunning cells with 'venv (Python 3.11.4)' requires the ipykernel package.\n",
      "\u001b[1;31mRun the following command to install 'ipykernel' into the Python environment. \n",
      "\u001b[1;31mCommand: 'c:/Python311/Scripts/MyPython/venv/Scripts/python.exe -m pip install ipykernel -U --force-reinstall'"
     ]
    }
   ],
   "source": [
    "# from tkinter import *\n",
    "\n",
    "# window = Tk()\n",
    "\n",
    "# l1 = Label(window, text = \"Title\")\n",
    "\n",
    "# l1.grid(row = 0, column = 0)\n",
    "\n",
    "# l2 = Label(window, text = \"Author\")\n",
    "# l2.grid(row = 0, column = 2)\n",
    "\n",
    "# l3 = Label(window, text = \"Year\")\n",
    "# l3.grid(row = 1, column = 0)\n",
    "\n",
    "# l4 = Label(window, text = \"ISBN\")\n",
    "# l4.grid(row = 1, column = 2)\n",
    "\n",
    "import script1\n",
    "%run script1.py"
   ]
  },
  {
   "cell_type": "code",
   "execution_count": null,
   "id": "9dabc2ad",
   "metadata": {},
   "outputs": [],
   "source": []
  }
 ],
 "metadata": {
  "kernelspec": {
   "display_name": "Python 3 (ipykernel)",
   "language": "python",
   "name": "python3"
  },
  "language_info": {
   "codemirror_mode": {
    "name": "ipython",
    "version": 3
   },
   "file_extension": ".py",
   "mimetype": "text/x-python",
   "name": "python",
   "nbconvert_exporter": "python",
   "pygments_lexer": "ipython3",
   "version": "3.11.4"
  }
 },
 "nbformat": 4,
 "nbformat_minor": 5
}
